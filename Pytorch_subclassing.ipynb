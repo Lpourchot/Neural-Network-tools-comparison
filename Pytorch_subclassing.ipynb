{
 "cells": [
  {
   "attachments": {
    "248884bc-4cfc-46a0-8c3c-f51a95814f48.png": {
     "image/png": "[encoded data removed]"
    }
   },
   "cell_type": "markdown",
   "metadata": {},
   "source": [
    "![image.png](attachment:248884bc-4cfc-46a0-8c3c-f51a95814f48.png)\n",
    "SUBCLASSING"
   ]
  },
  {
   "cell_type": "code",
   "execution_count": 1,
   "metadata": {},
   "outputs": [],
   "source": [
    "import torch\n",
    "import numpy as np\n",
    "import pandas as pd\n",
    "from sklearn.preprocessing import StandardScaler\n",
    "from sklearn.metrics import confusion_matrix, ConfusionMatrixDisplay"
   ]
  },
  {
   "cell_type": "markdown",
   "metadata": {},
   "source": [
    "<h3>Data reshaping and sampling<h3>"
   ]
  },
  {
   "cell_type": "code",
   "execution_count": 2,
   "metadata": {},
   "outputs": [],
   "source": [
    "df=pd.read_csv(\"breast-cancer-wisconsin.csv\",sep=';')\n",
    "     \n",
    "for i in range(0,len(df)):\n",
    "    if df.iat[i, 10]==2:\n",
    "        df.iat[i,10]=0\n",
    "    else:\n",
    "        df.iat[i,10]=1\n",
    "        \n",
    "for i in range(0,len(df)):\n",
    "    if df.iat[i, 10] !=1 and df.iat[i, 10] !=0:\n",
    "        print(df.iloc[i,10])\n",
    "\n",
    "ytrain=df[\"Column11\"].to_numpy()\n",
    "\n",
    "df=df.drop([\"Column7\"],axis=1)\n",
    "\n",
    "xtrain=df.to_numpy()\n",
    "\n",
    "sc=StandardScaler()\n",
    "Ztrain=sc.fit_transform(xtrain)\n",
    "\n",
    "from sklearn.utils import shuffle\n",
    "Ztrain,ytrain = shuffle(Ztrain,ytrain, random_state=0)\n",
    "\n",
    "from sklearn.model_selection import train_test_split\n",
    "feature_train, feature_test, target_train, target_test = train_test_split(Ztrain,ytrain, test_size=0.2, random_state=42)\n",
    "\n",
    "tensor_ZTrain = torch.FloatTensor(feature_train) \n",
    "\n",
    "tensor_yTrain = torch.FloatTensor(target_train) \n"
   ]
  },
  {
   "cell_type": "markdown",
   "metadata": {},
   "source": [
    "<h3> Model building<h3>"
   ]
  },
  {
   "cell_type": "code",
   "execution_count": 3,
   "metadata": {},
   "outputs": [],
   "source": [
    "\n",
    "class MyPS(torch.nn.Module): \n",
    "   \n",
    "    def __init__(self,p): \n",
    "             \n",
    "        super(MyPS,self).__init__() \n",
    "\n",
    "                 \n",
    "        self.layer1 = torch.nn.Linear(p,2) \n",
    "        self.ft1 = torch.nn.ReLU() \n",
    "        \n",
    "    \n",
    "        self.layer2 = torch.nn.Linear(2,1)         \n",
    "        self.ft2 = torch.nn.Sigmoid() \n",
    "         \n",
    "       \n",
    "    def forward(self,x): \n",
    "                \n",
    "        sortie_preactivation_1 = self.layer1(x)    \n",
    "        sortie_couche_1 = self.ft1(sortie_preactivation_1)         \n",
    "                \n",
    "        sortie_preactivation_2 = self.layer2(sortie_couche_1)    \n",
    "        sortie_couche_2 = self.ft2(sortie_preactivation_2)     \n",
    "          \n",
    "        return sortie_couche_2\n",
    "\n"
   ]
  },
  {
   "cell_type": "code",
   "execution_count": 4,
   "metadata": {},
   "outputs": [],
   "source": [
    "\"\"\"\n",
    "fonction critère à optimiser (Mean Squarred Error)\n",
    "\"\"\"\n",
    "fonction_de_cout= torch.nn.MSELoss() "
   ]
  },
  {
   "cell_type": "code",
   "execution_count": 6,
   "metadata": {},
   "outputs": [
    {
     "name": "stdout",
     "output_type": "stream",
     "text": [
      "tensor([ 0.2678, -0.8593, -0.0441, -0.4066, -0.2828, -0.5496, -0.1797, -0.6118,\n",
      "        -0.3439, -0.7254])\n"
     ]
    }
   ],
   "source": [
    "\"\"\"\n",
    "instanciation du modèle \n",
    "\"\"\"\n",
    "\n",
    "#.shape[1] pour le nombre de descripteurs \n",
    "mon_modele = MyPS(tensor_ZTrain.shape[1]) \n",
    " \n",
    "#algorithme d'optimisation \n",
    "#on lui passe les paramètres à manipuler \n",
    "optimiseur = torch.optim.Adam(mon_modele.parameters()) \n",
    "    "
   ]
  },
  {
   "cell_type": "markdown",
   "metadata": {},
   "source": [
    "<h3> Model training<h3>"
   ]
  },
  {
   "cell_type": "code",
   "execution_count": 22,
   "metadata": {},
   "outputs": [],
   "source": [
    "\n",
    "def train_session(X,y,classifier,criterion,optimizer,n_epochs=10000): \n",
    "    \n",
    "      \n",
    "    losses = np.zeros(n_epochs)     \n",
    "    \n",
    "    for iter in range(n_epochs): \n",
    "    \n",
    "        #réinitialiser (ràz) le gradient \n",
    "        #nécessaire à chaque passage sinon PyTorch accumule         \n",
    "        optimizer.zero_grad() \n",
    "    \n",
    "        #calculer la sortie du réseau         \n",
    "        yPred = classifier(X)         \n",
    "    \n",
    "        #calculer la perte         \n",
    "        perte = criterion(yPred.squeeze(),y) \n",
    "    \n",
    "        #la collecter         \n",
    "        losses[iter] = perte.item() \n",
    "    \n",
    "        #calcul du gradient (et retropropagation)         \n",
    "        perte.backward() \n",
    "        \n",
    "        #màj des poids synaptiques         \n",
    "        optimizer.step()    \n",
    "    \n",
    "    #sortie de la boucle     \n",
    "    return losses\n",
    "\n",
    "pertes = train_session(tensor_ZTrain,tensor_yTrain,mon_modele,fonction_de_cout,optimiseur)"
   ]
  },
  {
   "cell_type": "markdown",
   "metadata": {},
   "source": [
    "<h3> Model evaluation<h3>"
   ]
  },
  {
   "cell_type": "code",
   "execution_count": 23,
   "metadata": {},
   "outputs": [
    {
     "data": {
      "image/png": "[encoded data removed]",
      "text/plain": [
       "<Figure size 432x288 with 1 Axes>"
      ]
     },
     "metadata": {
      "needs_background": "light"
     },
     "output_type": "display_data"
    }
   ],
   "source": [
    "import matplotlib.pyplot as plt \n",
    "plt.plot(np.arange(0,pertes.shape[0]),pertes) \n",
    "plt.title(\"Evolution fnct de perte\") \n",
    "plt.xlabel(\"Epochs\") \n",
    "plt.ylabel(\"Loss\") \n",
    "plt.show() "
   ]
  },
  {
   "cell_type": "code",
   "execution_count": 24,
   "metadata": {},
   "outputs": [
    {
     "data": {
      "text/plain": [
       "<sklearn.metrics._plot.confusion_matrix.ConfusionMatrixDisplay at 0x1ee33281490>"
      ]
     },
     "execution_count": 24,
     "metadata": {},
     "output_type": "execute_result"
    },
    {
     "data": {
      "image/png": "[encoded data removed]",
      "text/plain": [
       "<Figure size 432x288 with 2 Axes>"
      ]
     },
     "metadata": {
      "needs_background": "light"
     },
     "output_type": "display_data"
    }
   ],
   "source": [
    "tensor_ZTest = torch.FloatTensor(feature_test) \n",
    "\n",
    "resultat = np.round(mon_modele(tensor_ZTest).squeeze().detach().numpy(),0)\n",
    "cm = confusion_matrix(target_test,resultat)\n",
    "class_names=[\"benign\",\"malignant\"]\n",
    "disp = ConfusionMatrixDisplay(confusion_matrix=cm,display_labels=class_names)\n",
    "disp.plot()\n"
   ]
  },
  {
   "cell_type": "code",
   "execution_count": null,
   "metadata": {},
   "outputs": [],
   "source": []
  }
 ],
 "metadata": {
  "kernelspec": {
   "display_name": "Python 3",
   "language": "python",
   "name": "python3"
  },
  "language_info": {
   "codemirror_mode": {
    "name": "ipython",
    "version": 3
   },
   "file_extension": ".py",
   "mimetype": "text/x-python",
   "name": "python",
   "nbconvert_exporter": "python",
   "pygments_lexer": "ipython3",
   "version": "3.8.3"
  }
 },
 "nbformat": 4,
 "nbformat_minor": 4
}
