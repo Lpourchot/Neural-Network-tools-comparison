{
 "cells": [
  {
   "attachments": {
    "1ed33a23-4d1e-4323-b3b8-497aa83ed6ed.png": {
     "image/png": "[encoded data removed]"
    }
   },
   "cell_type": "markdown",
   "metadata": {},
   "source": [
    "![image.png](attachment:1ed33a23-4d1e-4323-b3b8-497aa83ed6ed.png)"
   ]
  },
  {
   "cell_type": "code",
   "execution_count": 11,
   "metadata": {},
   "outputs": [],
   "source": [
    "import numpy as np\n",
    "import pandas as pd\n",
    "from sklearn.preprocessing import StandardScaler\n",
    "from sklearn.neural_network import MLPClassifier\n",
    "from sklearn.metrics import confusion_matrix, ConfusionMatrixDisplay"
   ]
  },
  {
   "cell_type": "markdown",
   "metadata": {},
   "source": [
    "<h3>Data reshaping and sampling<h3>"
   ]
  },
  {
   "cell_type": "code",
   "execution_count": 12,
   "metadata": {},
   "outputs": [],
   "source": [
    "df=pd.read_csv(\"breast-cancer-wisconsin.csv\",sep=';')\n",
    "  \n",
    "\n",
    "for i in range(0,len(df)):\n",
    "    if df.iat[i, 10]==2:\n",
    "        df.iat[i,10]=0\n",
    "    else:\n",
    "        df.iat[i,10]=1\n",
    "        \n",
    "for i in range(0,len(df)):\n",
    "    if df.iat[i, 10] !=1 and df.iat[i, 10] !=0:\n",
    "        pass\n",
    "        \n",
    "\n",
    "ytrain=df[\"Column11\"].to_numpy()\n",
    "xtrain=df.to_numpy()\n",
    "df=df.drop([\"Column7\"],axis=1)\n",
    "\n",
    "xtrain=df.to_numpy()\n",
    "\n",
    "sc=StandardScaler()\n",
    "xtrain=sc.fit_transform(xtrain)\n",
    "\n",
    "from sklearn.utils import shuffle\n",
    "xtrain,ytrain = shuffle(xtrain,ytrain, random_state=0)\n",
    "\n",
    "\n",
    "from sklearn.model_selection import train_test_split\n",
    "feature_train, feature_test, target_train, target_test = train_test_split(xtrain,ytrain, test_size=0.2, random_state=42)"
   ]
  },
  {
   "cell_type": "markdown",
   "metadata": {},
   "source": [
    "<h3> Model building<h3>"
   ]
  },
  {
   "cell_type": "code",
   "execution_count": 13,
   "metadata": {},
   "outputs": [],
   "source": [
    "mon_modele = MLPClassifier(hidden_layer_sizes=(2,2,1),activation = 'logistic',solver='adam', max_iter=10000, random_state=1)"
   ]
  },
  {
   "cell_type": "markdown",
   "metadata": {},
   "source": [
    "<h3> Model training<h3>"
   ]
  },
  {
   "cell_type": "code",
   "execution_count": 14,
   "metadata": {},
   "outputs": [
    {
     "data": {
      "text/plain": [
       "MLPClassifier(activation='logistic', hidden_layer_sizes=(2, 2, 1),\n",
       "              max_iter=10000, random_state=1)"
      ]
     },
     "execution_count": 14,
     "metadata": {},
     "output_type": "execute_result"
    }
   ],
   "source": [
    "mon_modele.fit(feature_train,target_train)\n"
   ]
  },
  {
   "cell_type": "markdown",
   "metadata": {},
   "source": [
    "<h3> Model evaluation<h3>"
   ]
  },
  {
   "cell_type": "code",
   "execution_count": 15,
   "metadata": {},
   "outputs": [
    {
     "data": {
      "text/plain": [
       "<sklearn.metrics._plot.confusion_matrix.ConfusionMatrixDisplay at 0x1d59f8c6d30>"
      ]
     },
     "execution_count": 15,
     "metadata": {},
     "output_type": "execute_result"
    },
    {
     "data": {
      "image/png": "[encoded data removed]",
      "text/plain": [
       "<Figure size 432x288 with 2 Axes>"
      ]
     },
     "metadata": {
      "needs_background": "light"
     },
     "output_type": "display_data"
    }
   ],
   "source": [
    "#Prediction on test set\n",
    "predictions = mon_modele.predict(feature_test)\n",
    "class_names=[\"benign\",\"malignant\"]\n",
    "cm = confusion_matrix(target_test,predictions)\n",
    "disp = ConfusionMatrixDisplay(confusion_matrix=cm,display_labels=class_names)\n",
    "disp.plot() "
   ]
  },
  {
   "cell_type": "code",
   "execution_count": null,
   "metadata": {},
   "outputs": [],
   "source": [
    "\n"
   ]
  }
 ],
 "metadata": {
  "kernelspec": {
   "display_name": "Python 3",
   "language": "python",
   "name": "python3"
  },
  "language_info": {
   "codemirror_mode": {
    "name": "ipython",
    "version": 3
   },
   "file_extension": ".py",
   "mimetype": "text/x-python",
   "name": "python",
   "nbconvert_exporter": "python",
   "pygments_lexer": "ipython3",
   "version": "3.8.3"
  }
 },
 "nbformat": 4,
 "nbformat_minor": 4
}
